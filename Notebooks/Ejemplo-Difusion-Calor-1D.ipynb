{
 "cells": [
  {
   "cell_type": "markdown",
   "metadata": {},
   "source": [
    "# Ecuación de difusión del calor 1D\n",
    "\n",
    "Discutiremos la solución de la ecuación de difusión del calor unidimensional, \n",
    "\n",
    "$$\n",
    "\\alpha \\frac{\\partial^2 \\psi}{\\partial^2 x}-\\frac{\\partial \\psi}{\\partial t}=0,\n",
    "$$\n",
    "\n",
    "en el dominio $-\\infty<x<\\infty$, $t\\ge 0$, empleando la transformada de Fourier espacial, y la condición de borde/inicial\n",
    "\n",
    "\\begin{align}\n",
    "\\lim_{x \\rightarrow \\pm \\infty}\\psi(x,t)=0,\\qquad\n",
    "\\psi(x,0)=\\phi(x),\n",
    "\\end{align}\n",
    "\n",
    "## Ejemplo1: Perfil inicial Delta de Dirac\n",
    "\n",
    "Primero consideraremos la solución simple que se encuentra en el caso que el perfil inicial de temperatura corresponde a una Delta de Dirac, \n",
    "\n",
    "$$\n",
    "\\phi(x)=T_0\\, \\delta(x),\n",
    "$$\n",
    "en cuyo caso\n",
    "\n",
    "$$\n",
    "\\psi_1(x,t)=\\frac{T_0}{2\\sqrt{\\pi \\alpha t}}e^{-\\frac{x^2}{4 \\alpha t}},\\qquad  t>0.\n",
    "$$"
   ]
  },
  {
   "cell_type": "code",
   "execution_count": 1,
   "metadata": {},
   "outputs": [],
   "source": [
    "%matplotlib inline\n",
    "from numpy import *\n",
    "import matplotlib.pyplot as plt\n",
    "from ipywidgets import interact\n",
    "plt.style.use('classic')"
   ]
  },
  {
   "cell_type": "markdown",
   "metadata": {},
   "source": [
    "Definimos una función para evaluar nuestra solución"
   ]
  },
  {
   "cell_type": "code",
   "execution_count": 2,
   "metadata": {},
   "outputs": [],
   "source": [
    "def Psi1(x,t,alpha):       \n",
    "    return (1/(2*sqrt(pi*alpha*t)))*exp(-x**2/(4.*alpha*t))"
   ]
  },
  {
   "cell_type": "markdown",
   "metadata": {},
   "source": [
    "Y otra función que la grafica, para valor de $t$ y $\\alpha$ dados:"
   ]
  },
  {
   "cell_type": "code",
   "execution_count": 3,
   "metadata": {},
   "outputs": [],
   "source": [
    "x = linspace(-50,50,1000)\n",
    "def g1(t,alpha):\n",
    "    plt.plot(x,Psi1(x,t,alpha), label='$\\psi(x,%d)$' %t)\n",
    "    plt.xlim(-50,50)\n",
    "    plt.ylim(0,Psi1(0,0.1,alpha))\n",
    "    plt.grid(True)\n",
    "    plt.xlabel('$x$',fontsize=15)\n",
    "    plt.ylabel('$\\psi(x,t)$',fontsize=15)\n",
    "    plt.title('Difusión del calor $1D$, $\\phi(x)=\\delta(x)$, $t=%.1f$' %t)\n",
    "    plt.legend()"
   ]
  },
  {
   "cell_type": "markdown",
   "metadata": {},
   "source": [
    "Por ejemplo, podemos graficar la solución para $t=0.01$ y $\\alpha=1$"
   ]
  },
  {
   "cell_type": "code",
   "execution_count": 4,
   "metadata": {},
   "outputs": [
    {
     "data": {
      "image/png": "[encoded data removed]",
      "text/plain": [
       "<Figure size 640x480 with 1 Axes>"
      ]
     },
     "metadata": {},
     "output_type": "display_data"
    }
   ],
   "source": [
    "g1(0.01,1)"
   ]
  },
  {
   "cell_type": "markdown",
   "metadata": {},
   "source": [
    "Graficamos ahora en forma interactiva"
   ]
  },
  {
   "cell_type": "code",
   "execution_count": 5,
   "metadata": {
    "scrolled": true
   },
   "outputs": [
    {
     "data": {
      "application/vnd.jupyter.widget-view+json": {
       "model_id": "2484e6d0c3314bebb325365694901f78",
       "version_major": 2,
       "version_minor": 0
      },
      "text/plain": [
       "interactive(children=(FloatSlider(value=25.000000000000004, description='t', max=50.0, min=0.1), FloatSlider(v…"
      ]
     },
     "metadata": {},
     "output_type": "display_data"
    },
    {
     "data": {
      "text/plain": [
       "<function __main__.g1(t, alpha)>"
      ]
     },
     "execution_count": 5,
     "metadata": {},
     "output_type": "execute_result"
    }
   ],
   "source": [
    "interact(g1,t=(0.1,50,0.1),alpha=(0.1,10,0.1))"
   ]
  },
  {
   "cell_type": "markdown",
   "metadata": {},
   "source": [
    "## Ejemplo 2: Perfil inicial escalonado\n",
    "\n",
    "Si ahora consideramos\n",
    "\n",
    "$$\n",
    "\\phi(x)=\\left\\lbrace\\begin{array}{ll} T_0, & x\\in(-a,a) \\\\ 0, & \\text{otro caso} \\end{array}\\right.\n",
    "$$\n",
    "entonces la solución es de la forma\n",
    "\n",
    "$$\n",
    "\\Psi_2(x,t) = \\frac{T_0}{2}\\left[erf\\left(\\frac{x+a}{\\sqrt{4\\alpha t}}\\right) +erf\\left(\\frac{a-x}{\\sqrt{4\\alpha t}}\\right)\\right],\n",
    "$$\n",
    "donde $erf(x)$ denota la función error, definida por\n",
    "\n",
    "$$\n",
    "erf(x):= \\frac{2}{\\sqrt{\\pi}}\\int_0^x e^{-t^2}\\,dt.\n",
    "$$\n",
    "\n",
    "Esta función está predefinida en el módulo `scipy.special`, que podemos entonces importar"
   ]
  },
  {
   "cell_type": "code",
   "execution_count": 6,
   "metadata": {},
   "outputs": [],
   "source": [
    "from scipy.special import erf"
   ]
  },
  {
   "cell_type": "markdown",
   "metadata": {},
   "source": [
    "Con esto, la solución es de la forma (consideramos $a=1$, $T_0=1$ y $\\alpha=0.01$)"
   ]
  },
  {
   "cell_type": "code",
   "execution_count": 7,
   "metadata": {},
   "outputs": [],
   "source": [
    "a = 1\n",
    "alpha = 0.01\n",
    "def Psi2(x,t):\n",
    "    return (erf((x+a)/(sqrt(4*alpha*t))) + erf((a-x)/(sqrt(4*alpha*t))))/2."
   ]
  },
  {
   "cell_type": "markdown",
   "metadata": {},
   "source": [
    "Realizamos los gráficos en forma similar al primer caso:"
   ]
  },
  {
   "cell_type": "code",
   "execution_count": 8,
   "metadata": {},
   "outputs": [],
   "source": [
    "x = linspace(-5,5,1000)\n",
    "def g2(t):\n",
    "    plt.plot(x,Psi2(x,t),label='$\\psi(x,%d)$' %t)\n",
    "    plt.title('Difusión del calor $1D$')\n",
    "    plt.xlim(-5,5)\n",
    "    plt.ylim(0,1.2)\n",
    "    plt.grid(True)\n",
    "    plt.xlabel('$x$',fontsize=15)\n",
    "    plt.ylabel('$\\psi(x,t)$',fontsize=15)\n",
    "    plt.legend()"
   ]
  },
  {
   "cell_type": "code",
   "execution_count": 9,
   "metadata": {},
   "outputs": [
    {
     "data": {
      "application/vnd.jupyter.widget-view+json": {
       "model_id": "649fafaad35c45b0b896025ef6481400",
       "version_major": 2,
       "version_minor": 0
      },
      "text/plain": [
       "interactive(children=(FloatSlider(value=25.0, description='t', max=50.0), Output()), _dom_classes=('widget-int…"
      ]
     },
     "metadata": {},
     "output_type": "display_data"
    },
    {
     "data": {
      "text/plain": [
       "<function __main__.g2(t)>"
      ]
     },
     "execution_count": 9,
     "metadata": {},
     "output_type": "execute_result"
    }
   ],
   "source": [
    "interact(g2, t=(0,50,0.1))"
   ]
  },
  {
   "cell_type": "markdown",
   "metadata": {},
   "source": [
    "## Exportando animaciones a archivos .gif\n",
    "\n",
    "Es posible crear una animación de la solución usando la función `FuncAnimation`. El código siguiente genera el archivo `difusion-calor-1D-Delta.gif` con la animación de la primera solución:"
   ]
  },
  {
   "cell_type": "code",
   "execution_count": 10,
   "metadata": {},
   "outputs": [],
   "source": [
    "from matplotlib.animation import FuncAnimation"
   ]
  },
  {
   "cell_type": "code",
   "execution_count": 11,
   "metadata": {
    "scrolled": true
   },
   "outputs": [
    {
     "name": "stderr",
     "output_type": "stream",
     "text": [
      "No handles with labels found to put in legend.\n",
      "/home/gr/miniconda3/lib/python3.6/site-packages/ipykernel_launcher.py:2: RuntimeWarning: divide by zero encountered in double_scalars\n",
      "  \n",
      "/home/gr/miniconda3/lib/python3.6/site-packages/ipykernel_launcher.py:2: RuntimeWarning: divide by zero encountered in true_divide\n",
      "  \n",
      "/home/gr/miniconda3/lib/python3.6/site-packages/ipykernel_launcher.py:2: RuntimeWarning: invalid value encountered in multiply\n",
      "  \n"
     ]
    },
    {
     "data": {
      "image/png": "[encoded data removed]",
      "text/plain": [
       "<Figure size 640x480 with 1 Axes>"
      ]
     },
     "metadata": {},
     "output_type": "display_data"
    }
   ],
   "source": [
    "alpha = 1\n",
    "t = 0.01\n",
    "x = linspace(-50,50,1000)\n",
    "\n",
    "fig, ax = plt.subplots()\n",
    "ax.set_ylim(0, Psi1(0,0.1,alpha))\n",
    "ax.grid()\n",
    "ax.set_xlim(-50,50)\n",
    "ax.set_xlabel('$x$',fontsize=15)\n",
    "ax.set_ylabel('$\\psi(x,t)$',fontsize=15)\n",
    "ax.legend()\n",
    "\n",
    "line = ax.plot(x, Psi1(x,t,alpha), lw=2)[0]\n",
    "title = ax.set_title('Difusión del calor $1D$, $\\phi(x)=\\delta(x)$, $t=%.1f$' %t)\n",
    "\n",
    "def animate(i):\n",
    "    t = 1.*i\n",
    "    ax.set_title('Difusión del calor $1D$, $\\phi(x)=\\delta(x)$, $t=%.1f$' %t)\n",
    "    line.set_ydata(Psi1(x,t,alpha))\n",
    "    \n",
    "anim = FuncAnimation(fig, animate, interval=100, frames=150) #100 msec entre frames\n",
    "\n",
    "anim.save('difusion-calor-1D-Delta.gif', writer='imagemagick')"
   ]
  },
  {
   "cell_type": "code",
   "execution_count": 12,
   "metadata": {},
   "outputs": [],
   "source": [
    "def g3(t=0):\n",
    "    plt.figure(figsize=(10,0.2))\n",
    "    plt.xlim(-5,5)\n",
    "    plt.xlabel('$x$',fontsize=15)\n",
    "    plt.yticks([])\n",
    "    \n",
    "    x = linspace(-5,5,1000)\n",
    "    y = linspace(0,0.2,2)\n",
    "    X,Y = meshgrid(x,y)\n",
    "    Z = Psi2(X,t)\n",
    "    plt.pcolormesh(X, Y, Z, cmap='plasma', vmin=0, vmax=1)\n",
    "    plt.title('Difusión del calor $1D$: Escalón, $t=%.1f$' %t)\n",
    "    plt.show()"
   ]
  },
  {
   "cell_type": "code",
   "execution_count": 13,
   "metadata": {},
   "outputs": [
    {
     "data": {
      "application/vnd.jupyter.widget-view+json": {
       "model_id": "f65252825c3a426ebedc7f8b116914a7",
       "version_major": 2,
       "version_minor": 0
      },
      "text/plain": [
       "interactive(children=(FloatSlider(value=0.01, description='t', max=3.0, min=0.01), Output()), _dom_classes=('w…"
      ]
     },
     "metadata": {},
     "output_type": "display_data"
    },
    {
     "data": {
      "text/plain": [
       "<function __main__.g3(t=0)>"
      ]
     },
     "execution_count": 13,
     "metadata": {},
     "output_type": "execute_result"
    }
   ],
   "source": [
    "interact(g3, t=(0.01,3,0.1))"
   ]
  },
  {
   "cell_type": "markdown",
   "metadata": {},
   "source": [
    "Análogamente, para la segunda solución, creamos el archivo `difusion-calor-1D-escalon.gif`:"
   ]
  },
  {
   "cell_type": "code",
   "execution_count": 14,
   "metadata": {
    "scrolled": true
   },
   "outputs": [
    {
     "name": "stderr",
     "output_type": "stream",
     "text": [
      "No handles with labels found to put in legend.\n",
      "/home/gr/miniconda3/lib/python3.6/site-packages/ipykernel_launcher.py:4: RuntimeWarning: divide by zero encountered in true_divide\n",
      "  after removing the cwd from sys.path.\n",
      "/home/gr/miniconda3/lib/python3.6/site-packages/ipykernel_launcher.py:4: RuntimeWarning: divide by zero encountered in true_divide\n",
      "  after removing the cwd from sys.path.\n"
     ]
    },
    {
     "data": {
      "image/png": "[encoded data removed]",
      "text/plain": [
       "<Figure size 640x480 with 1 Axes>"
      ]
     },
     "metadata": {},
     "output_type": "display_data"
    }
   ],
   "source": [
    "x = linspace(-5,5,1000)\n",
    "\n",
    "fig, ax = plt.subplots()\n",
    "ax.set_ylim(0,1.2)\n",
    "ax.grid()\n",
    "ax.set_xlim(-5,5)\n",
    "ax.set_xlabel('$x$',fontsize=15)\n",
    "ax.set_ylabel(\"$\\psi(x,t)$\",fontsize=15)\n",
    "ax.legend()\n",
    "\n",
    "line = ax.plot(x, Psi2(x,0), lw=2)[0]\n",
    "\n",
    "def animate(i):\n",
    "    t = 0.2*i\n",
    "    ax.set_title('Difusión del calor $1D$: Escalón, $t=%.1f$' %t)\n",
    "    line.set_ydata(Psi2(x,t))\n",
    "    \n",
    "anim = FuncAnimation(fig, animate, interval=100, frames=200) #100 msec entre frames\n",
    "\n",
    "anim.save('difusion-calor-1D-Escalon.gif', writer='imagemagick')"
   ]
  },
  {
   "cell_type": "markdown",
   "metadata": {},
   "source": [
    "Otra forma interesante de representar la solución es por medio de un gráfico de colores:"
   ]
  },
  {
   "cell_type": "code",
   "execution_count": 15,
   "metadata": {
    "scrolled": false
   },
   "outputs": [
    {
     "name": "stderr",
     "output_type": "stream",
     "text": [
      "/home/gr/miniconda3/lib/python3.6/site-packages/ipykernel_launcher.py:4: RuntimeWarning: divide by zero encountered in true_divide\n",
      "  after removing the cwd from sys.path.\n",
      "/home/gr/miniconda3/lib/python3.6/site-packages/ipykernel_launcher.py:4: RuntimeWarning: divide by zero encountered in true_divide\n",
      "  after removing the cwd from sys.path.\n"
     ]
    },
    {
     "data": {
      "image/png": "[encoded data removed]",
      "text/plain": [
       "<Figure size 800x16 with 1 Axes>"
      ]
     },
     "metadata": {},
     "output_type": "display_data"
    }
   ],
   "source": [
    "fig = plt.figure(figsize=(10,0.2))\n",
    "ax = plt.subplot()\n",
    "ax.set_xlim(-5,5)\n",
    "ax.set_xlabel(r'$x$',fontsize=15)\n",
    "ax.set_yticklabels([])\n",
    "\n",
    "x = linspace(-5,5,1000)\n",
    "y = linspace(0,0.2,2)\n",
    "X,Y = meshgrid(x,y)\n",
    "Z = Psi2(X,0)\n",
    "\n",
    "cax = ax.pcolormesh(X, Y, Z, cmap='plasma')\n",
    "\n",
    "def animate(i):\n",
    "    t = 0.05*i\n",
    "    ax.set_title('Difusión del calor $1D$: Escalón, $t=%.1f$' %t)\n",
    "    cax.set_array(Psi2(X,t).flatten())\n",
    "    \n",
    "anim = FuncAnimation(fig, animate, interval=50, frames=100) #100 msec entre frames=10fps\n",
    "\n",
    "anim.save('difusion-calor-1D-escalon-colores.gif', writer='imagemagick')"
   ]
  }
 ],
 "metadata": {
  "kernelspec": {
   "display_name": "Python 3",
   "language": "python",
   "name": "python3"
  },
  "language_info": {
   "codemirror_mode": {
    "name": "ipython",
    "version": 3
   },
   "file_extension": ".py",
   "mimetype": "text/x-python",
   "name": "python",
   "nbconvert_exporter": "python",
   "pygments_lexer": "ipython3",
   "version": "3.6.7"
  },
  "widgets": {
   "state": {
    "1df8fd183588496294ee17dc556561d1": {
     "views": [
      {
       "cell_index": 16
      }
     ]
    },
    "da796fb4a375491e998bea6bec0e1cb7": {
     "views": [
      {
       "cell_index": 9
      }
     ]
    }
   },
   "version": "1.2.0"
  }
 },
 "nbformat": 4,
 "nbformat_minor": 1
}
